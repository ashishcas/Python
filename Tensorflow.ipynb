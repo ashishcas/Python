{
  "nbformat": 4,
  "nbformat_minor": 0,
  "metadata": {
    "colab": {
      "name": "Tensorflow.ipynb",
      "version": "0.3.2",
      "provenance": [],
      "collapsed_sections": [],
      "include_colab_link": true
    },
    "kernelspec": {
      "name": "python3",
      "display_name": "Python 3"
    }
  },
  "cells": [
    {
      "cell_type": "markdown",
      "metadata": {
        "id": "view-in-github",
        "colab_type": "text"
      },
      "source": [
        "<a href=\"https://colab.research.google.com/github/ashishcas/Python/blob/master/Tensorflow.ipynb\" target=\"_parent\"><img src=\"https://colab.research.google.com/assets/colab-badge.svg\" alt=\"Open In Colab\"/></a>"
      ]
    },
    {
      "cell_type": "code",
      "metadata": {
        "id": "Tl-me2Oc4MWk",
        "colab_type": "code",
        "colab": {
          "base_uri": "https://localhost:8080/",
          "height": 34
        },
        "outputId": "94f467f5-4929-4d58-9f96-2aec3a3ab2ce"
      },
      "source": [
        "import tensorflow as tf\n",
        "\n",
        "a = tf.constant(5)\n",
        "b = tf.constant(2)\n",
        "c = tf.constant(3)\n",
        "\n",
        "d = tf.multiply(a,b)\n",
        "e = tf.add(c,b)\n",
        "f = tf.subtract(d,e)\n",
        "\n",
        "sess = tf.Session()\n",
        "\n",
        "outs = sess.run(f)\n",
        "\n",
        "print(outs)"
      ],
      "execution_count": 2,
      "outputs": [
        {
          "output_type": "stream",
          "text": [
            "5\n"
          ],
          "name": "stdout"
        }
      ]
    },
    {
      "cell_type": "code",
      "metadata": {
        "id": "nJPOcd0Z67_G",
        "colab_type": "code",
        "colab": {
          "base_uri": "https://localhost:8080/",
          "height": 50
        },
        "outputId": "fb32734f-d636-49bd-a5ae-2be801ab9040"
      },
      "source": [
        "\n",
        "w = tf.Variable([.3],tf.float32)\n",
        "\n",
        "b = tf.Variable([-.3],tf.float32)\n",
        "\n",
        "x = tf.placeholder(tf.float32)\n",
        "\n",
        "linear_model = w*x + b\n",
        "\n",
        "init = tf.global_variables_initializer()\n",
        "\n",
        "sess = tf.Session()\n",
        "\n",
        "sess.run(init)\n",
        "\n",
        "print(sess.run(linear_model,{x:[1,2,3,4,5]}))\n",
        "\n",
        "y = tf.placeholder(tf.float32)\n",
        "\n",
        "squared_deltas = tf.square(linear_model - y)\n",
        "\n",
        "loss = tf.reduce_sum(squared_deltas)\n",
        "\n",
        "print(sess.run(loss,{x:[1,2,3,4],y:[0,-1,-2,-3]}))"
      ],
      "execution_count": 7,
      "outputs": [
        {
          "output_type": "stream",
          "text": [
            "[0.         0.3        0.6        0.90000004 1.2       ]\n",
            "23.66\n"
          ],
          "name": "stdout"
        }
      ]
    },
    {
      "cell_type": "code",
      "metadata": {
        "id": "FDXNNDRB_mOP",
        "colab_type": "code",
        "colab": {
          "base_uri": "https://localhost:8080/",
          "height": 34
        },
        "outputId": "05f54667-841c-4ac4-feda-6c54359afc73"
      },
      "source": [
        "\n",
        "W = tf.Variable([.3],tf.float32)\n",
        "\n",
        "b = tf.Variable([-.3],tf.float32)\n",
        "\n",
        "x = tf.placeholder(tf.float32)\n",
        "\n",
        "linear_model = W*x + b\n",
        "\n",
        "init = tf.global_variables_initializer()\n",
        "\n",
        "sess = tf.Session()\n",
        "\n",
        "#sess.run(init)\n",
        "\n",
        "#print(sess.run(linear_model,{x:[1,2,3,4,5]}))\n",
        "\n",
        "y = tf.placeholder(tf.float32)\n",
        "\n",
        "squared_deltas = tf.square(linear_model - y)\n",
        "\n",
        "loss = tf.reduce_sum(squared_deltas)\n",
        "\n",
        "#print(sess.run(loss,{x:[1,2,3,4],y:[0,-1,-2,-3]}))\n",
        "\n",
        "optimizer = tf.train.GradientDescentOptimizer(0.01)\n",
        "\n",
        "train = optimizer.minimize(loss)\n",
        "\n",
        "sess.run(init)\n",
        "\n",
        "for i in range(1000):\n",
        "  sess.run(train,{x:[1,2,3,4],y:[0,-1,-2,-3]})\n",
        "  \n",
        "print(sess.run([W,b]))"
      ],
      "execution_count": 9,
      "outputs": [
        {
          "output_type": "stream",
          "text": [
            "[array([-0.9999969], dtype=float32), array([0.9999908], dtype=float32)]\n"
          ],
          "name": "stdout"
        }
      ]
    },
    {
      "cell_type": "code",
      "metadata": {
        "id": "wWi9YRtsEl5c",
        "colab_type": "code",
        "colab": {
          "base_uri": "https://localhost:8080/",
          "height": 138
        },
        "outputId": "d378ef69-4dff-4b03-c775-4f0a502eb789"
      },
      "source": [
        "#building logical gates\n",
        "\n",
        "import tensorflow as tf\n",
        "\n",
        "T , F = 1. , -1.\n",
        "\n",
        "bias = 1\n",
        "\n",
        "train_in = [\n",
        "    [T, T , bias],\n",
        "    [T, F , bias],\n",
        "    [F, T , bias],\n",
        "    [F, F, bias]\n",
        "]\n",
        "\n",
        "train_out = [\n",
        "    [T],\n",
        "    [F],\n",
        "    [F],\n",
        "    [F]\n",
        "]\n",
        "\n",
        "w = tf.Variable(tf.random_normal([3,1]))\n",
        "\n",
        "def step(x):\n",
        "  is_greater = tf.greater(x,0)\n",
        "  is_float = tf.cast(is_greater,tf.float32)\n",
        "  doubled = tf.multiply(is_float,2)\n",
        "  return tf.subtract(doubled,1)\n",
        "  \n",
        "output = step(tf.matmul(train_in,w))\n",
        "error = tf.subtract(train_out,output)\n",
        "mse = tf.reduce_mean(tf.square(error))\n",
        "\n",
        "delta = tf.matmul(train_in,error,transpose_a = True)\n",
        "train = tf.assign(w,tf.add(w,delta))\n",
        "\n",
        "sess = tf.Session()\n",
        "sess.run(tf.initialize_all_variables())\n",
        "\n",
        "err , target =  1 , 0\n",
        "\n",
        "epoch, max_epoch = 0 , 10\n",
        "\n",
        "while err > target and epoch < max_epoch:\n",
        "  epoch += 1\n",
        "  err, _ = sess.run([mse, train])\n",
        "  print('epoch:',epoch , 'mse:', err)"
      ],
      "execution_count": 14,
      "outputs": [
        {
          "output_type": "stream",
          "text": [
            "W0707 16:10:11.632499 139834397828992 deprecation.py:323] From /usr/local/lib/python3.6/dist-packages/tensorflow/python/util/tf_should_use.py:193: initialize_all_variables (from tensorflow.python.ops.variables) is deprecated and will be removed after 2017-03-02.\n",
            "Instructions for updating:\n",
            "Use `tf.global_variables_initializer` instead.\n"
          ],
          "name": "stderr"
        },
        {
          "output_type": "stream",
          "text": [
            "epoch: 1 mse: 3.0\n",
            "epoch: 2 mse: 1.0\n",
            "epoch: 3 mse: 0.0\n"
          ],
          "name": "stdout"
        }
      ]
    }
  ]
}